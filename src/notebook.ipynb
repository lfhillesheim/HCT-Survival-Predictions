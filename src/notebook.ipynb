{
 "cells": [
  {
   "cell_type": "markdown",
   "metadata": {},
   "source": [
    "# Bibliotecas e Configurações"
   ]
  },
  {
   "cell_type": "markdown",
   "metadata": {},
   "source": [
    "Destinado a importação de bibliotecas e configurações globais"
   ]
  },
  {
   "cell_type": "markdown",
   "metadata": {},
   "source": [
    "#### Default"
   ]
  },
  {
   "cell_type": "code",
   "execution_count": 3,
   "metadata": {},
   "outputs": [],
   "source": [
    "import pandas as pd\n",
    "import matplotlib.pyplot as plt\n",
    "import seaborn as sns\n",
    "import warnings\n",
    "import numpy as np\n",
    "import utils\n",
    "import importlib\n",
    "\n",
    "## Configs\n",
    "\n",
    "importlib.reload(utils)\n",
    "pd.set_option('display.max_columns', None)  # Mostra todas as colunas\n",
    "pd.set_option('display.max_rows', 100)      # Mostra até 100 linhas\n",
    "pd.set_option('display.max_colwidth', 100)  # Máxima largura da coluna\n",
    "pd.set_option('display.float_format', '{:.2f}'.format)  # Formato dos números flutuantes\n",
    "pd.set_option('display.expand_frame_repr', False)  # Não quebra o DataFrame em múltiplas linhas\n",
    "pd.set_option('display.max_rows', None)  # Mostra todas as linhas no output\n",
    "warnings.filterwarnings('ignore')\n",
    "\n",
    "# Colors\n",
    "colors = ['#705557', '#b27b77', '#ddcac6', '#af9294', '#8c9a5b', '#708090', '#c5a880', '#a0522d']\n",
    "\n",
    "plt.rcParams['axes.prop_cycle'] = plt.cycler(color=colors)\n",
    "sns.set_palette(sns.color_palette(colors))  \n"
   ]
  },
  {
   "cell_type": "markdown",
   "metadata": {},
   "source": [
    "#### ML and Statis"
   ]
  },
  {
   "cell_type": "code",
   "execution_count": null,
   "metadata": {},
   "outputs": [],
   "source": []
  },
  {
   "cell_type": "markdown",
   "metadata": {},
   "source": [
    "## Params"
   ]
  },
  {
   "cell_type": "code",
   "execution_count": null,
   "metadata": {},
   "outputs": [],
   "source": []
  },
  {
   "cell_type": "markdown",
   "metadata": {},
   "source": [
    "# Import Data Base\n"
   ]
  },
  {
   "cell_type": "code",
   "execution_count": null,
   "metadata": {},
   "outputs": [],
   "source": [
    "pasta_raw = '../data/raw/'\n",
    "pasta_stage = '../data/stage/'\n",
    "pasta_analitics = '../data/analitics/'"
   ]
  },
  {
   "cell_type": "code",
   "execution_count": null,
   "metadata": {},
   "outputs": [],
   "source": []
  },
  {
   "cell_type": "markdown",
   "metadata": {},
   "source": [
    "#### Metadados"
   ]
  },
  {
   "cell_type": "code",
   "execution_count": 1,
   "metadata": {},
   "outputs": [],
   "source": [
    "metadados = {\n",
    "    \"INDEX\": {\n",
    "        \"index\": 0,\n",
    "        \"descricao\": \"IDENTIFICADOR\",\n",
    "        \"tipo\": \"IDENTIFICADOR\",\n",
    "        \"relevancia\": \"NENHUMA\",\n",
    "        \"dados_de\": \"NENHUM\",\n",
    "        \"one_hot_encoding\": 0,\n",
    "        \"analise\": 0\n",
    "    }\n",
    "}"
   ]
  },
  {
   "cell_type": "markdown",
   "metadata": {},
   "source": [
    "# Exploratory"
   ]
  },
  {
   "cell_type": "code",
   "execution_count": null,
   "metadata": {},
   "outputs": [],
   "source": []
  },
  {
   "cell_type": "markdown",
   "metadata": {},
   "source": [
    "# Statistcs"
   ]
  },
  {
   "cell_type": "code",
   "execution_count": null,
   "metadata": {},
   "outputs": [],
   "source": []
  },
  {
   "cell_type": "markdown",
   "metadata": {},
   "source": [
    "# ML"
   ]
  },
  {
   "cell_type": "code",
   "execution_count": null,
   "metadata": {},
   "outputs": [],
   "source": []
  },
  {
   "cell_type": "markdown",
   "metadata": {},
   "source": []
  }
 ],
 "metadata": {
  "kernelspec": {
   "display_name": "venv",
   "language": "python",
   "name": "python3"
  },
  "language_info": {
   "codemirror_mode": {
    "name": "ipython",
    "version": 3
   },
   "file_extension": ".py",
   "mimetype": "text/x-python",
   "name": "python",
   "nbconvert_exporter": "python",
   "pygments_lexer": "ipython3",
   "version": "3.12.7"
  }
 },
 "nbformat": 4,
 "nbformat_minor": 2
}
